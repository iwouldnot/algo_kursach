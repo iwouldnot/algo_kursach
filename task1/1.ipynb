{
 "cells": [
  {
   "cell_type": "markdown",
   "metadata": {},
   "source": [
    "# Задание 1. Моделирование абстрактных типов данных (АТД) для различных реализаций"
   ]
  },
  {
   "cell_type": "markdown",
   "metadata": {},
   "source": [
    "В соответствии с вариантом задания, необходимо реализовать следующие АТД:\n",
    "* Стек на ОЛС, вершина стека - первый элемент ОЛС\n",
    "* Очередь на ОЛС, \"хвост\" очереди - последний, а \"голова\" - первый элемент\n",
    "\n",
    "Также необходимо реализовать классы, соответствующие следующим абстракциям:\n",
    "* запрос к процессору\n",
    "* процессор\n",
    "\n",
    "Рассмотрим далее реализацию каждого из перечисленных пунктов задания."
   ]
  },
  {
   "cell_type": "markdown",
   "metadata": {},
   "source": [
    "## Стек"
   ]
  },
  {
   "cell_type": "code",
   "execution_count": 1,
   "metadata": {},
   "outputs": [],
   "source": [
    "class Stack:\n",
    "    def __init__(self):\n",
    "        self.items = []\n",
    "\n",
    "    def is_empty(self):\n",
    "        return self.items == []\n",
    "\n",
    "    def push(self, item):\n",
    "        self.items.insert(0, item)\n",
    "\n",
    "    def pop(self):\n",
    "        return self.items.pop(0)\n",
    "\n",
    "    def peek(self):\n",
    "        return self.items[0]\n",
    "\n",
    "    def size(self):\n",
    "        return len(self.items)"
   ]
  },
  {
   "cell_type": "markdown",
   "metadata": {},
   "source": [
    "## Очередь"
   ]
  },
  {
   "cell_type": "code",
   "execution_count": 2,
   "metadata": {},
   "outputs": [],
   "source": [
    "class CustomQueue:\n",
    "    def __init__(self):\n",
    "        self.items = []\n",
    "\n",
    "    def is_empty(self):\n",
    "        return self.items == []\n",
    "\n",
    "    def enqueue(self, item):\n",
    "        self.items.insert(0, item)\n",
    "\n",
    "    def dequeue(self):\n",
    "        return self.items.pop()\n",
    "\n",
    "    def size(self):\n",
    "        return len(self.items)"
   ]
  },
  {
   "cell_type": "markdown",
   "metadata": {},
   "source": [
    "## Запрос\n",
    "Следует обратить внимание, что для внешней совместимости метод `get_info()` возвращает информацию об объекте в универсальном формате JSON, позволяя в дальнейшем обрабатывать запрос более гибким образом.\n",
    "\n",
    "Имя запроса формируется в формате `имя@тип`, где `имя` задается параметром конструктора, а `тип` автоматически подставляется исходя из типа сгенерированного случайно запроса. К примеру, название объекта `zapros@2` означает, что при создании объекту было передано имя `zapros`, а при генерации этому объекту был присвоен второй тип."
   ]
  },
  {
   "cell_type": "code",
   "execution_count": 3,
   "metadata": {},
   "outputs": [],
   "source": [
    "from random import randint\n",
    "import json\n",
    "\n",
    "\n",
    "class Query:\n",
    "    query_type = 0\n",
    "    time = 0\n",
    "    name = \"\"\n",
    "\n",
    "    def __init__(self, name):\n",
    "        self.query_type = randint(0, 2)\n",
    "        self.name = name + \"@\" + str(self.query_type)\n",
    "        self.time = randint(2, 10)\n",
    "\n",
    "    def get_info(self):\n",
    "        data = {\n",
    "            'name': self.name,\n",
    "            'query_type': self.query_type,\n",
    "            'time': self.time,\n",
    "        }\n",
    "        return json.dumps(data)"
   ]
  },
  {
   "cell_type": "markdown",
   "metadata": {},
   "source": [
    "## Процессор\n",
    "Следует обратить внимание, что метод `get_info()` также возвращает данные об объекте в формате JSON."
   ]
  },
  {
   "cell_type": "code",
   "execution_count": 4,
   "metadata": {},
   "outputs": [],
   "source": [
    "from query import Query\n",
    "import json\n",
    "\n",
    "\n",
    "class Processor:\n",
    "    is_free = True\n",
    "    current_query = None\n",
    "    time_left_for_query = 0\n",
    "    name = \"\"\n",
    "\n",
    "    def __init__(self, name):\n",
    "        self.name = name\n",
    "\n",
    "    def set_task(self, task: Query):\n",
    "        self.is_free = False\n",
    "        self.current_query = task\n",
    "        self.time_left_for_query = task.time\n",
    "\n",
    "    def next_tick(self):\n",
    "        if self.time_left_for_query == 1:\n",
    "            self.is_free = True\n",
    "            self.current_query = None\n",
    "            name = \"\"\n",
    "        self.time_left_for_query -= 1\n",
    "\n",
    "    def get_status(self):\n",
    "        data = {\n",
    "            'is_free': self.is_free,\n",
    "            'current_query': self.current_query.name,\n",
    "            'time_left_for_query': self.time_left_for_query,\n",
    "            'processor_name': self.name\n",
    "        }\n",
    "        return json.dumps(data)"
   ]
  },
  {
   "cell_type": "markdown",
   "metadata": {},
   "source": [
    "Все необходимые АТД и классы описаны корректно, следовательно, можно приступить в разработке модели, имитирующей поведение вычислительной системы."
   ]
  },
  {
   "cell_type": "markdown",
   "metadata": {},
   "source": [
    "# Разработка модели ВС"
   ]
  },
  {
   "cell_type": "markdown",
   "metadata": {},
   "source": [
    "### Импортируем необходимые библиотеки:"
   ]
  },
  {
   "cell_type": "code",
   "execution_count": 5,
   "metadata": {},
   "outputs": [],
   "source": [
    "import pandas as pd\n",
    "from processor import Processor\n",
    "from customqueue import CustomQueue\n",
    "from stack import Stack\n",
    "from query import Query\n",
    "import json\n",
    "\n",
    "import warnings\n",
    "warnings.filterwarnings('ignore')"
   ]
  },
  {
   "cell_type": "markdown",
   "metadata": {},
   "source": [
    "Поскольку данные об объекте передаются в формате JSON, создадим функцию, упрощающую взаимодействие с этим форматов в коде."
   ]
  },
  {
   "cell_type": "code",
   "execution_count": 6,
   "metadata": {},
   "outputs": [],
   "source": [
    "def decode(json_string):\n",
    "    return json.loads(json_string)"
   ]
  },
  {
   "cell_type": "markdown",
   "metadata": {},
   "source": [
    "Создадим базовые объекты, которые соответствуют 5-ому варианту задания. В частности, необходимо создать очередь для запросов, стек, куда будут отправляться запросы, которые нельзя обработать в данный момент и 3 процессора, каждый из которых будет обрабатывать свой тип запросов. Также ограничим суммарное число запросов - 10 000."
   ]
  },
  {
   "cell_type": "code",
   "execution_count": 7,
   "metadata": {},
   "outputs": [],
   "source": [
    "total_number_of_queries = 10000\n",
    "queries = CustomQueue()\n",
    "processors = [Processor(\"P0\"), Processor(\"P1\"), Processor(\"P2\")]\n",
    "awaiting_queries = Stack()"
   ]
  },
  {
   "cell_type": "markdown",
   "metadata": {},
   "source": [
    "Опишем две вспомогательные функции, которые существенно упростят код и улучшат его читаемость:\n",
    "* system_awaits() - проверяет состояние ВС, возвращая true, если она находится в режиме ожидания (ни один из процессоров не нагружен, стек запросов пусть, очередь запросов пуста), и false, если имеется хоть какая-либо активность ВС. Эту функцию мы будем использовать для проверки окончания работы ВС над запросами.\n",
    "* fancy_status(processor) - функция, возвращающая описание состояния процессора в отформатированном виде для наглядности. Возвращается строка вида `Px: Query \"n@p\"; Time remaining:  t`, где `x` - номер процессора, `n` - присвоенное запросу имя, `p` - тип запроса, `t` - оставшееся время для выполнения запроса. В случае, если процессор свободен от задач, возникает исключение (exception) вида AttributeError, поскольку происходит обращение к аттрибуту со значением None, который аналогичен типу null в большинстве языков программирования. В этом случае исключение отлавливается и возвращается строка, извещающая о том, что процессор находится в состоянии ожидания."
   ]
  },
  {
   "cell_type": "code",
   "execution_count": 8,
   "metadata": {},
   "outputs": [],
   "source": [
    "def system_awaits():\n",
    "    return (processors[0].is_free\n",
    "           and processors[1].is_free\n",
    "           and processors[2].is_free\n",
    "           and awaiting_queries.is_empty()\n",
    "           and queries.is_empty())\n",
    "\n",
    "def fancy_status(processor):\n",
    "    try:\n",
    "        json_status = processor.get_status()\n",
    "        parsed_status = decode(json_status)\n",
    "        if not parsed_status['is_free']:\n",
    "            return \"{}: Query \\\"{:5}\\\"; Time remaining: {:2}\".format(parsed_status['processor_name'],\n",
    "                                                                     parsed_status['current_query'],\n",
    "                                                                     parsed_status['time_left_for_query'])\n",
    "    except AttributeError:\n",
    "        return \"{}: currently free.\".format(processor.name)"
   ]
  },
  {
   "cell_type": "markdown",
   "metadata": {},
   "source": [
    "Основная часть программы включает в себя цикл `while()`, который работает в соответствии с выполнением условия `not system_awaits()` (функция `system_awaits` описана выше). На каждой итерации, соответствующей имитации тика процессора, программа создает новый запрос, который помещает в очередь. Затем из головы очереди достается запрос, проверяется, свободен ли процессор, которому соответствует этот запрос, и если он свободен, помещается в него, иначе - переносится в стек. Затем происходит проверка, свободен ли процессор, соответствующий запросу в вершине стека. Если процессор свободен, задача помещается в него.\n",
    "\n",
    "Для наглядности работы программы в файл логгируется нынешняя вершина стека и состояние каждого из процессоров. Также информация о каждом из процессоров и о величине стека заносится по соответствующим массивам `stack_size`, `p0_is_free`, `p1_is_free` и `p2_is_free`. В дальнейшем эти массивы мы будем использовать для анализа работы ВС."
   ]
  },
  {
   "cell_type": "code",
   "execution_count": 9,
   "metadata": {},
   "outputs": [],
   "source": [
    "with open('report.txt', 'w', encoding='utf-8') as f:\n",
    "    query_number = 0\n",
    "    queries.enqueue(Query(str(query_number)))\n",
    "    query_number += 1\n",
    "    size_of_stack = []\n",
    "    p0_is_free = []\n",
    "    p1_is_free = []\n",
    "    p2_is_free = []\n",
    "\n",
    "    while not system_awaits():\n",
    "        if not queries.is_empty():\n",
    "            new_query = queries.dequeue()\n",
    "            # print(new_query.get_info(), ' ', query_number)\n",
    "            f.write('Generated: ')\n",
    "            f.write(new_query.get_info())\n",
    "            f.write('\\n')\n",
    "            if processors[new_query.query_type].is_free:\n",
    "                processors[new_query.query_type].set_task(new_query)\n",
    "            else:\n",
    "                awaiting_queries.push(new_query)\n",
    "\n",
    "        if not awaiting_queries.is_empty():\n",
    "            f.write('Top of stack: ')\n",
    "            f.write(awaiting_queries.peek().get_info())\n",
    "            f.write('\\n')\n",
    "            if processors[awaiting_queries.peek().query_type].is_free:\n",
    "                processors[awaiting_queries.peek().query_type].set_task(awaiting_queries.pop())\n",
    "\n",
    "        for i in processors:\n",
    "            # print(fancy_status(i))\n",
    "            f.write(fancy_status(i) + '\\n')\n",
    "            i.next_tick()\n",
    "        # print('-' * 80)\n",
    "        f.write('-' * 80 + '\\n')\n",
    "\n",
    "        if query_number < total_number_of_queries:\n",
    "            queries.enqueue(Query(str(query_number)))\n",
    "            query_number += 1\n",
    "\n",
    "        size_of_stack.append(awaiting_queries.size())\n",
    "        p0_is_free.append(processors[0].is_free)\n",
    "        p1_is_free.append(processors[1].is_free)\n",
    "        p2_is_free.append(processors[2].is_free)"
   ]
  },
  {
   "cell_type": "markdown",
   "metadata": {},
   "source": [
    "Воспользуемся функционалом библиотеки pandas, созданной для удобной работы с большими объемами данных. Создадим объект типа `DataFrame`, двумерную таблицу, которая будет хранить в себе все данные о состоянии ВС в разные моменты времени, а затем сохраним эту информацию в формате .csv (comma-separated values)."
   ]
  },
  {
   "cell_type": "code",
   "execution_count": 10,
   "metadata": {},
   "outputs": [],
   "source": [
    "df = pd.DataFrame({\n",
    "    'stack_size': size_of_stack,\n",
    "    'p0_is_free': p0_is_free,\n",
    "    'p1_is_free': p1_is_free,\n",
    "    'p2_is_free': p2_is_free\n",
    "})\n",
    "df.to_csv('raw_data.csv')"
   ]
  },
  {
   "cell_type": "markdown",
   "metadata": {},
   "source": [
    "# Анализ состояний ВС"
   ]
  },
  {
   "cell_type": "markdown",
   "metadata": {},
   "source": [
    "### Импортируем библиотеки, необходимые для анализа данных"
   ]
  },
  {
   "cell_type": "code",
   "execution_count": 11,
   "metadata": {},
   "outputs": [],
   "source": [
    "%matplotlib inline\n",
    "import pandas as pd\n",
    "import matplotlib.pyplot as plt\n",
    "import seaborn as sns\n",
    "\n",
    "sns.set_style('whitegrid')"
   ]
  },
  {
   "cell_type": "markdown",
   "metadata": {},
   "source": [
    "Рассмотрим первые пять записей в таблице при помощи функции `head()`."
   ]
  },
  {
   "cell_type": "code",
   "execution_count": 12,
   "metadata": {},
   "outputs": [
    {
     "data": {
      "text/html": [
       "<div>\n",
       "<style scoped>\n",
       "    .dataframe tbody tr th:only-of-type {\n",
       "        vertical-align: middle;\n",
       "    }\n",
       "\n",
       "    .dataframe tbody tr th {\n",
       "        vertical-align: top;\n",
       "    }\n",
       "\n",
       "    .dataframe thead th {\n",
       "        text-align: right;\n",
       "    }\n",
       "</style>\n",
       "<table border=\"1\" class=\"dataframe\">\n",
       "  <thead>\n",
       "    <tr style=\"text-align: right;\">\n",
       "      <th></th>\n",
       "      <th>p0_is_free</th>\n",
       "      <th>p1_is_free</th>\n",
       "      <th>p2_is_free</th>\n",
       "      <th>stack_size</th>\n",
       "    </tr>\n",
       "  </thead>\n",
       "  <tbody>\n",
       "    <tr>\n",
       "      <th>0</th>\n",
       "      <td>False</td>\n",
       "      <td>True</td>\n",
       "      <td>True</td>\n",
       "      <td>0</td>\n",
       "    </tr>\n",
       "    <tr>\n",
       "      <th>1</th>\n",
       "      <td>False</td>\n",
       "      <td>True</td>\n",
       "      <td>False</td>\n",
       "      <td>0</td>\n",
       "    </tr>\n",
       "    <tr>\n",
       "      <th>2</th>\n",
       "      <td>False</td>\n",
       "      <td>True</td>\n",
       "      <td>False</td>\n",
       "      <td>1</td>\n",
       "    </tr>\n",
       "    <tr>\n",
       "      <th>3</th>\n",
       "      <td>False</td>\n",
       "      <td>True</td>\n",
       "      <td>False</td>\n",
       "      <td>2</td>\n",
       "    </tr>\n",
       "    <tr>\n",
       "      <th>4</th>\n",
       "      <td>True</td>\n",
       "      <td>True</td>\n",
       "      <td>False</td>\n",
       "      <td>3</td>\n",
       "    </tr>\n",
       "  </tbody>\n",
       "</table>\n",
       "</div>"
      ],
      "text/plain": [
       "   p0_is_free  p1_is_free  p2_is_free  stack_size\n",
       "0       False        True        True           0\n",
       "1       False        True       False           0\n",
       "2       False        True       False           1\n",
       "3       False        True       False           2\n",
       "4        True        True       False           3"
      ]
     },
     "execution_count": 12,
     "metadata": {},
     "output_type": "execute_result"
    }
   ],
   "source": [
    "df = pd.read_csv('raw_data.csv', index_col=0)\n",
    "df.head()"
   ]
  },
  {
   "cell_type": "markdown",
   "metadata": {},
   "source": [
    "Каждая запись представляет собой 4 последовательных значения в определенный момент времени. Значения описывают состояние каждого из процессоров и величину стека на данный момент.\n",
    "\n",
    "Рассмотрим краткое описание формата данных при помощи метода `info()`."
   ]
  },
  {
   "cell_type": "code",
   "execution_count": 13,
   "metadata": {},
   "outputs": [
    {
     "name": "stdout",
     "output_type": "stream",
     "text": [
      "<class 'pandas.core.frame.DataFrame'>\n",
      "Int64Index: 32964 entries, 0 to 32963\n",
      "Data columns (total 4 columns):\n",
      "p0_is_free    32964 non-null bool\n",
      "p1_is_free    32964 non-null bool\n",
      "p2_is_free    32964 non-null bool\n",
      "stack_size    32964 non-null int64\n",
      "dtypes: bool(3), int64(1)\n",
      "memory usage: 611.6 KB\n"
     ]
    }
   ],
   "source": [
    "df.info()"
   ]
  },
  {
   "cell_type": "markdown",
   "metadata": {},
   "source": [
    "Всего в датасете 32964 экземпляра, каждый из которых описывает состояние системы 4-мя значениями. Как видно выше, первые три колонки представляют собой объект типа `bool`, в то время как 4-ый представляет собой объект типа `int64`.\n",
    "\n",
    "Для удобства анализа значений сведем тип `bool` также к типу `int64`."
   ]
  },
  {
   "cell_type": "code",
   "execution_count": 14,
   "metadata": {},
   "outputs": [
    {
     "name": "stdout",
     "output_type": "stream",
     "text": [
      "<class 'pandas.core.frame.DataFrame'>\n",
      "Int64Index: 32964 entries, 0 to 32963\n",
      "Data columns (total 4 columns):\n",
      "p0_is_free    32964 non-null int64\n",
      "p1_is_free    32964 non-null int64\n",
      "p2_is_free    32964 non-null int64\n",
      "stack_size    32964 non-null int64\n",
      "dtypes: int64(4)\n",
      "memory usage: 1.3 MB\n"
     ]
    }
   ],
   "source": [
    "df.p0_is_free = df.p0_is_free.astype('int64')\n",
    "df.p1_is_free = df.p1_is_free.astype('int64')\n",
    "df.p2_is_free = df.p2_is_free.astype('int64')\n",
    "df.info()"
   ]
  },
  {
   "cell_type": "markdown",
   "metadata": {},
   "source": [
    "Теперь все объекты являются объектами типа `int64`. Как видно из информационной сводки выше, все данные целостны, то есть нету отсутствующих или утерянных значений (таких, как `NaN`).\n",
    "\n",
    "Рассмотрим общий анализ числовых данных датасета при помощи метода `describe()`."
   ]
  },
  {
   "cell_type": "code",
   "execution_count": 15,
   "metadata": {},
   "outputs": [
    {
     "data": {
      "text/html": [
       "<div>\n",
       "<style scoped>\n",
       "    .dataframe tbody tr th:only-of-type {\n",
       "        vertical-align: middle;\n",
       "    }\n",
       "\n",
       "    .dataframe tbody tr th {\n",
       "        vertical-align: top;\n",
       "    }\n",
       "\n",
       "    .dataframe thead th {\n",
       "        text-align: right;\n",
       "    }\n",
       "</style>\n",
       "<table border=\"1\" class=\"dataframe\">\n",
       "  <thead>\n",
       "    <tr style=\"text-align: right;\">\n",
       "      <th></th>\n",
       "      <th>p0_is_free</th>\n",
       "      <th>p1_is_free</th>\n",
       "      <th>p2_is_free</th>\n",
       "      <th>stack_size</th>\n",
       "    </tr>\n",
       "  </thead>\n",
       "  <tbody>\n",
       "    <tr>\n",
       "      <th>count</th>\n",
       "      <td>32964.000000</td>\n",
       "      <td>32964.000000</td>\n",
       "      <td>32964.000000</td>\n",
       "      <td>32964.000000</td>\n",
       "    </tr>\n",
       "    <tr>\n",
       "      <th>mean</th>\n",
       "      <td>0.494631</td>\n",
       "      <td>0.501820</td>\n",
       "      <td>0.489231</td>\n",
       "      <td>3063.705588</td>\n",
       "    </tr>\n",
       "    <tr>\n",
       "      <th>std</th>\n",
       "      <td>0.499979</td>\n",
       "      <td>0.500004</td>\n",
       "      <td>0.499892</td>\n",
       "      <td>1770.349645</td>\n",
       "    </tr>\n",
       "    <tr>\n",
       "      <th>min</th>\n",
       "      <td>0.000000</td>\n",
       "      <td>0.000000</td>\n",
       "      <td>0.000000</td>\n",
       "      <td>0.000000</td>\n",
       "    </tr>\n",
       "    <tr>\n",
       "      <th>25%</th>\n",
       "      <td>0.000000</td>\n",
       "      <td>0.000000</td>\n",
       "      <td>0.000000</td>\n",
       "      <td>1528.750000</td>\n",
       "    </tr>\n",
       "    <tr>\n",
       "      <th>50%</th>\n",
       "      <td>0.000000</td>\n",
       "      <td>1.000000</td>\n",
       "      <td>0.000000</td>\n",
       "      <td>3072.000000</td>\n",
       "    </tr>\n",
       "    <tr>\n",
       "      <th>75%</th>\n",
       "      <td>1.000000</td>\n",
       "      <td>1.000000</td>\n",
       "      <td>1.000000</td>\n",
       "      <td>4601.000000</td>\n",
       "    </tr>\n",
       "    <tr>\n",
       "      <th>max</th>\n",
       "      <td>1.000000</td>\n",
       "      <td>1.000000</td>\n",
       "      <td>1.000000</td>\n",
       "      <td>6117.000000</td>\n",
       "    </tr>\n",
       "  </tbody>\n",
       "</table>\n",
       "</div>"
      ],
      "text/plain": [
       "         p0_is_free    p1_is_free    p2_is_free    stack_size\n",
       "count  32964.000000  32964.000000  32964.000000  32964.000000\n",
       "mean       0.494631      0.501820      0.489231   3063.705588\n",
       "std        0.499979      0.500004      0.499892   1770.349645\n",
       "min        0.000000      0.000000      0.000000      0.000000\n",
       "25%        0.000000      0.000000      0.000000   1528.750000\n",
       "50%        0.000000      1.000000      0.000000   3072.000000\n",
       "75%        1.000000      1.000000      1.000000   4601.000000\n",
       "max        1.000000      1.000000      1.000000   6117.000000"
      ]
     },
     "execution_count": 15,
     "metadata": {},
     "output_type": "execute_result"
    }
   ],
   "source": [
    "df.describe()"
   ]
  },
  {
   "cell_type": "markdown",
   "metadata": {},
   "source": [
    "Строки `25%`, `50%` и `75%` означают первый квантиль, медиану и третий квантиль соответственно. Как видно из значений, пиковая величина размера стека была 6117 элемент. Все значения процессоров близки к средним, то есть, процессоры находились в состоянии ожидания и работы приблизительно одинаковое время.\n",
    "\n",
    "Рассмотрим график размера стека от номера тика процессора:"
   ]
  },
  {
   "cell_type": "code",
   "execution_count": 16,
   "metadata": {},
   "outputs": [
    {
     "data": {
      "text/plain": [
       "Text(0,0.5,'Size of stack')"
      ]
     },
     "execution_count": 16,
     "metadata": {},
     "output_type": "execute_result"
    },
    {
     "data": {
      "image/png": "[encoded data removed]",
      "text/plain": [
       "<matplotlib.figure.Figure at 0x1db6691af60>"
      ]
     },
     "metadata": {},
     "output_type": "display_data"
    }
   ],
   "source": [
    "plt.figure(num=1, figsize=(9, 9))\n",
    "plt.plot(df.index, df.stack_size)\n",
    "plt.xlabel('Tick №', fontsize=20)\n",
    "plt.ylabel('Size of stack', fontsize=20)"
   ]
  },
  {
   "cell_type": "markdown",
   "metadata": {},
   "source": [
    "Наглядно видно, что размер стека увеличивается до тех пор, пока не наступает пороговое значение количества созданных запросов - 10 000. Затем размер стека постепенно уменьшается, полностью опустевая только на 32964 тике.\n",
    "\n",
    "Рассмотрим соотношение времени работы и простоя каждого из процессоров в отдельности, а также построим графики сравнения времени каждого из состояний:"
   ]
  },
  {
   "cell_type": "code",
   "execution_count": 17,
   "metadata": {},
   "outputs": [
    {
     "name": "stdout",
     "output_type": "stream",
     "text": [
      "Соотношение: 16659 тиков в простое, 16305 тиков в работе\n",
      "Соотношение: 50.537% / 49.463%\n"
     ]
    },
    {
     "data": {
      "text/plain": [
       "<matplotlib.axes._subplots.AxesSubplot at 0x1db67dbe780>"
      ]
     },
     "execution_count": 17,
     "metadata": {},
     "output_type": "execute_result"
    },
    {
     "data": {
      "image/png": "[encoded data removed]",
      "text/plain": [
       "<matplotlib.figure.Figure at 0x1db67dbe588>"
      ]
     },
     "metadata": {},
     "output_type": "display_data"
    }
   ],
   "source": [
    "print(\"Соотношение: {} тиков в простое, {} тиков в работе\".format(df.p0_is_free.value_counts()[0], \n",
    "                                                                  df.p0_is_free.value_counts()[1]))\n",
    "print(\"Соотношение: {:.3f}% / {:.3f}%\".format(df.p0_is_free.value_counts()[0] / df.p0_is_free.count() * 100,\n",
    "                                              df.p0_is_free.value_counts()[1] / df.p0_is_free.count() * 100))\n",
    "plt.figure(num=1, figsize=(9,9))\n",
    "sns.countplot(df.p0_is_free)"
   ]
  },
  {
   "cell_type": "code",
   "execution_count": 18,
   "metadata": {},
   "outputs": [
    {
     "name": "stdout",
     "output_type": "stream",
     "text": [
      "Соотношение: 16422 тиков в простое, 16542 тиков в работе\n",
      "Соотношение: 49.818% / 50.182%\n"
     ]
    },
    {
     "data": {
      "text/plain": [
       "<matplotlib.axes._subplots.AxesSubplot at 0x1db67deaf98>"
      ]
     },
     "execution_count": 18,
     "metadata": {},
     "output_type": "execute_result"
    },
    {
     "data": {
      "image/png": "[encoded data removed]",
      "text/plain": [
       "<matplotlib.figure.Figure at 0x1db67e4b080>"
      ]
     },
     "metadata": {},
     "output_type": "display_data"
    }
   ],
   "source": [
    "print(\"Соотношение: {} тиков в простое, {} тиков в работе\".format(df.p1_is_free.value_counts()[0], \n",
    "                                                                  df.p1_is_free.value_counts()[1]))\n",
    "print(\"Соотношение: {:.3f}% / {:.3f}%\".format(df.p1_is_free.value_counts()[0] / df.p1_is_free.count() * 100,\n",
    "                                              df.p1_is_free.value_counts()[1] / df.p1_is_free.count() * 100))\n",
    "plt.figure(num=1, figsize=(9,9))\n",
    "sns.countplot(df.p1_is_free)"
   ]
  },
  {
   "cell_type": "code",
   "execution_count": 19,
   "metadata": {},
   "outputs": [
    {
     "name": "stdout",
     "output_type": "stream",
     "text": [
      "16837 тиков в простое, 16127 тиков в работе\n",
      "Соотношение: 51.077% / 48.923%\n"
     ]
    },
    {
     "data": {
      "text/plain": [
       "<matplotlib.axes._subplots.AxesSubplot at 0x1db631af748>"
      ]
     },
     "execution_count": 19,
     "metadata": {},
     "output_type": "execute_result"
    },
    {
     "data": {
      "image/png": "[encoded data removed]",
      "text/plain": [
       "<matplotlib.figure.Figure at 0x1db680c02b0>"
      ]
     },
     "metadata": {},
     "output_type": "display_data"
    }
   ],
   "source": [
    "print(\"{} тиков в простое, {} тиков в работе\".format(df.p2_is_free.value_counts()[0], \n",
    "                                                     df.p2_is_free.value_counts()[1]))\n",
    "print(\"Соотношение: {:.3f}% / {:.3f}%\".format(df.p2_is_free.value_counts()[0] / df.p2_is_free.count() * 100,\n",
    "                                              df.p2_is_free.value_counts()[1] / df.p2_is_free.count() * 100))\n",
    "plt.figure(num=1, figsize=(9,9))\n",
    "sns.countplot(df.p2_is_free)"
   ]
  },
  {
   "cell_type": "markdown",
   "metadata": {
    "collapsed": true
   },
   "source": [
    "Из графиков и аналитической выкладки видно, что соотношение времени работы и ожидания приблизительно равно 1:1, то есть время работы и простоя процессора примерно одинаково."
   ]
  }
 ],
 "metadata": {
  "kernelspec": {
   "display_name": "Python 3",
   "language": "python",
   "name": "python3"
  },
  "language_info": {
   "codemirror_mode": {
    "name": "ipython",
    "version": 3
   },
   "file_extension": ".py",
   "mimetype": "text/x-python",
   "name": "python",
   "nbconvert_exporter": "python",
   "pygments_lexer": "ipython3",
   "version": "3.6.3"
  }
 },
 "nbformat": 4,
 "nbformat_minor": 2
}
