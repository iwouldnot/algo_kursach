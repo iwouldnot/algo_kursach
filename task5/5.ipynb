{
 "cells": [
  {
   "cell_type": "markdown",
   "metadata": {},
   "source": [
    "# Задание 5: Реализация функций расстановки (хеширование) и различных методов разрешения коллизий\n",
    "## Вариант 5: разрешение коллизий методом квадратичного опробирования"
   ]
  },
  {
   "cell_type": "markdown",
   "metadata": {},
   "source": [
    "Реализовывать хеш-таблицу будем через собственную реализацию классу, содержащую поле `items`, массив объектов хеш-таблицы.\n",
    "\n",
    "Для начала, импортируем необходимые библиотеки.\n",
    "\n",
    "Библиотека `hashlib` позволяет использовать популярные хеш-функции. В частности, в этом задании мы будем использовать MD5, SHA-1 и SHA-224. Библиотека `numpy` даст нам бэкенд для создания массива данных, а `jdc` позволит динамически добавлять элементы класса в разных ячейках этой jupyter-тетради."
   ]
  },
  {
   "cell_type": "code",
   "execution_count": 1,
   "metadata": {},
   "outputs": [],
   "source": [
    "import hashlib\n",
    "import numpy as np\n",
    "import jdc"
   ]
  },
  {
   "cell_type": "markdown",
   "metadata": {},
   "source": [
    "Начнем описывать непосредственно класс. Хэширование реализуем уже внутри этого класса при автоматическом индексировании объектов.\n",
    "\n",
    "`__init__` - конструктор объектов класса; имеет параметры:\n",
    "* `size_of_db` - количество объектов создаваемом объекте\n",
    "* `size_of_value` - величина одного объекта\n",
    "* `hash_type` - определение функции хеширования объекта. Доступны три варианта: `md5`, `sha1`, `sha224`."
   ]
  },
  {
   "cell_type": "code",
   "execution_count": 2,
   "metadata": {},
   "outputs": [],
   "source": [
    "class Database:\n",
    "    def __init__(self, size_of_db, size_of_value, hash_type='md5'):\n",
    "        self.size_of_db = size_of_db\n",
    "        self.size_of_value = size_of_value\n",
    "        self.items = np.chararray(size_of_db, size_of_value)\n",
    "        self.items[:] = ''\n",
    "        self.hash_type = hash_type"
   ]
  },
  {
   "cell_type": "markdown",
   "metadata": {},
   "source": [
    "Определения принципа итерирования по объекту:"
   ]
  },
  {
   "cell_type": "code",
   "execution_count": 3,
   "metadata": {},
   "outputs": [],
   "source": [
    "%%add_to Database\n",
    "def __iter__(self):\n",
    "    for i in self.items:\n",
    "        yield i"
   ]
  },
  {
   "cell_type": "markdown",
   "metadata": {},
   "source": [
    "Непосредственно функции хеширования данных. Одна из этих функций используется в созданном объекте при добавлении объекта."
   ]
  },
  {
   "cell_type": "code",
   "execution_count": 4,
   "metadata": {},
   "outputs": [],
   "source": [
    "%%add_to Database\n",
    "def hash_md5_to_int(s):\n",
    "    return int(hashlib.md5(s.encode('utf-8')).hexdigest(), 16)\n",
    "\n",
    "def hash_256(s):\n",
    "    return int(s) % 256\n",
    "\n",
    "def hash_65536(s):\n",
    "    s = int(s)\n",
    "    s = s * 77\n",
    "    s = s // 20.48\n",
    "    s = s * (s % 256)\n",
    "    s = int(s)\n",
    "    return s % 65536"
   ]
  },
  {
   "cell_type": "markdown",
   "metadata": {},
   "source": [
    "Добавление объектов в базу данных. В теле функции вызывает функция запроса ключа по высчитыванию хеша от значения добавляемого объекта."
   ]
  },
  {
   "cell_type": "code",
   "execution_count": 5,
   "metadata": {},
   "outputs": [],
   "source": [
    "%%add_to Database\n",
    "def add(self, value):\n",
    "    self.items[self.get_key(value)] = value"
   ]
  },
  {
   "cell_type": "markdown",
   "metadata": {},
   "source": [
    "Функция удаления значения из базы данных. За один запрос удаляет все значения, вне зависимости от их положения."
   ]
  },
  {
   "cell_type": "code",
   "execution_count": 6,
   "metadata": {},
   "outputs": [],
   "source": [
    "%%add_to Database\n",
    "def delete(self, value):\n",
    "    for i in range(self.items.shape[0]):\n",
    "        if self.items[i] == value.encode('utf-8'):\n",
    "            self.items[i] = ''"
   ]
  },
  {
   "cell_type": "markdown",
   "metadata": {},
   "source": [
    "Возвращает позицию первого встретившегося объекта со значением, равным запрошенному."
   ]
  },
  {
   "cell_type": "code",
   "execution_count": 7,
   "metadata": {},
   "outputs": [],
   "source": [
    "%%add_to Database\n",
    "def find(self, value):\n",
    "    for i in range(self.items.shape[0]):\n",
    "        if self.items[i] == value.encode('utf-8'):\n",
    "            return i"
   ]
  },
  {
   "cell_type": "markdown",
   "metadata": {},
   "source": [
    "Функция получает значения ключа для добавления объекта по запрошенному значению. В функции реализовано разрешение коллизий путем квадратичного пробирования."
   ]
  },
  {
   "cell_type": "code",
   "execution_count": 8,
   "metadata": {},
   "outputs": [],
   "source": [
    "%%add_to Database\n",
    "def get_key(self, value):\n",
    "    C1 = 0.5\n",
    "    C2 = 0.5\n",
    "    if self.hash_type == 'md5':\n",
    "        hashed = Database.hash_md5_to_int(value)\n",
    "    elif self.hash_type == '256':\n",
    "        hashed = Database.hash_256(value)\n",
    "    elif self.hash_type == '65536':\n",
    "        hashed = Database.hash_65536(value)\n",
    "    else:\n",
    "        raise AttributeError\n",
    "    current_key = hashed % self.items.shape[0]\n",
    "    i = 0\n",
    "    while not (self.items[current_key] == ''):\n",
    "        i += 1\n",
    "        current_key = (hashed + int(C1 * i + C2 * i * i)) % self.items.shape[0]\n",
    "        if i > len(self.items):\n",
    "            raise Exception\n",
    "    return current_key"
   ]
  },
  {
   "cell_type": "markdown",
   "metadata": {},
   "source": [
    "Проврим созданный класс. Создадим объект `db`, добавим в него несколько объектов, составляющих коллизии, а также пару иных."
   ]
  },
  {
   "cell_type": "code",
   "execution_count": 9,
   "metadata": {},
   "outputs": [
    {
     "name": "stdout",
     "output_type": "stream",
     "text": [
      "['' '' '' '' '' '' b'qwe' b'zxc' '' '' '' '' '' '' b'asd' b'asd' '' b'asd'\n",
      " '' '' '' '' '' '' '' '' '' '' '' '' '' '']\n"
     ]
    }
   ],
   "source": [
    "db = Database(32, 16, 'md5')\n",
    "db.add('asd')\n",
    "db.add('asd')\n",
    "db.add('asd')\n",
    "db.add('qwe')\n",
    "db.add('zxc')\n",
    "print(db.items)"
   ]
  },
  {
   "cell_type": "markdown",
   "metadata": {},
   "source": [
    "Как видно, метод разрешния коллизий корректно работает.\n",
    "\n",
    "Попробуем получить элемент хеш-таблицы по значению, получив ключ от значения и обратившись к нему."
   ]
  },
  {
   "cell_type": "code",
   "execution_count": 10,
   "metadata": {},
   "outputs": [
    {
     "name": "stdout",
     "output_type": "stream",
     "text": [
      "b'asd'\n"
     ]
    }
   ],
   "source": [
    "print(db.items[db.find('asd')])"
   ]
  },
  {
   "cell_type": "markdown",
   "metadata": {},
   "source": [
    "Попробуем удалить все объекты со значением `'asd'` из объекта `db`. Мы должны получить объект, содержащий только строки `'qwe'` и `'zxc'`"
   ]
  },
  {
   "cell_type": "code",
   "execution_count": 11,
   "metadata": {},
   "outputs": [
    {
     "name": "stdout",
     "output_type": "stream",
     "text": [
      "['' '' '' '' '' '' b'qwe' b'zxc' '' '' '' '' '' '' '' '' '' '' '' '' '' ''\n",
      " '' '' '' '' '' '' '' '' '' '']\n"
     ]
    }
   ],
   "source": [
    "db.delete('asd')\n",
    "print(db.items)"
   ]
  },
  {
   "cell_type": "markdown",
   "metadata": {},
   "source": [
    "Все функции корректно обрабатывают объект, следовательно, класс корректно реализован."
   ]
  },
  {
   "cell_type": "markdown",
   "metadata": {},
   "source": [
    "Теперь оценим последовательно каждую из хеш-функций, использованных прежде. Для этого будем последовательно заполнять ассоциативный массив значениями с ключами, равными значениям хеш-функций. В случае, если в таблице уже есть значение под таким ключом, будем считать это коллизией. Подсчитаем такие коллизии для массивов различных размеров.\n",
    "\n",
    "Для начала, импортируем библиотеке, которые будем позже использовать."
   ]
  },
  {
   "cell_type": "code",
   "execution_count": 12,
   "metadata": {},
   "outputs": [],
   "source": [
    "%matplotlib inline\n",
    "import matplotlib.pyplot as plt\n",
    "import hashlib\n",
    "import numpy as np\n",
    "from tqdm import tqdm_notebook"
   ]
  },
  {
   "cell_type": "markdown",
   "metadata": {},
   "source": [
    "Теперь повторно опишем каждую из функций шифрования."
   ]
  },
  {
   "cell_type": "code",
   "execution_count": 13,
   "metadata": {},
   "outputs": [],
   "source": [
    "def hash_256(s):\n",
    "    return int(s) % 256\n",
    "\n",
    "def hash_65536(s):\n",
    "    s = int(s)\n",
    "    s = s * 77\n",
    "    s = s // 20.48\n",
    "    s = s * (s % 2356)\n",
    "    s = int(s)\n",
    "    return s % 65536 * len(str(s))\n",
    "\n",
    "def hash_md5(s):\n",
    "    s = str(s)\n",
    "    s = s.encode('utf-8')\n",
    "    return int(hashlib.md5(s).hexdigest(), 16)"
   ]
  },
  {
   "cell_type": "markdown",
   "metadata": {},
   "source": [
    "Зададим размеры пределов количества хешируемых объектов"
   ]
  },
  {
   "cell_type": "code",
   "execution_count": 14,
   "metadata": {},
   "outputs": [],
   "source": [
    "SIZE = [50, 100, 250, 500, 1000, 2500, 10000, 15000, 25000, 50000, 100000, 200000]"
   ]
  },
  {
   "cell_type": "markdown",
   "metadata": {},
   "source": [
    "Теперь последовательно проверим количество коллизий всех функций на различных количествах объектов\n",
    "\n",
    "Функция `hash_256`:"
   ]
  },
  {
   "cell_type": "code",
   "execution_count": 15,
   "metadata": {},
   "outputs": [
    {
     "data": {
      "application/vnd.jupyter.widget-view+json": {
       "model_id": "bbb9d5218efe4247b03b8a7885fc1c16",
       "version_major": 2,
       "version_minor": 0
      },
      "text/html": [
       "<p>Failed to display Jupyter Widget of type <code>HBox</code>.</p>\n",
       "<p>\n",
       "  If you're reading this message in Jupyter Notebook or JupyterLab, it may mean\n",
       "  that the widgets JavaScript is still loading. If this message persists, it\n",
       "  likely means that the widgets JavaScript library is either not installed or\n",
       "  not enabled. See the <a href=\"https://ipywidgets.readthedocs.io/en/stable/user_install.html\">Jupyter\n",
       "  Widgets Documentation</a> for setup instructions.\n",
       "</p>\n",
       "<p>\n",
       "  If you're reading this message in another notebook frontend (for example, a static\n",
       "  rendering on GitHub or <a href=\"https://nbviewer.jupyter.org/\">NBViewer</a>),\n",
       "  it may mean that your frontend doesn't currently support widgets.\n",
       "</p>\n"
      ],
      "text/plain": [
       "HBox(children=(IntProgress(value=0, max=12), HTML(value='')))"
      ]
     },
     "metadata": {},
     "output_type": "display_data"
    },
    {
     "name": "stdout",
     "output_type": "stream",
     "text": [
      "\n"
     ]
    }
   ],
   "source": [
    "results_256 = []\n",
    "for i in tqdm_notebook(SIZE):\n",
    "    a = {}\n",
    "    collision_counter = 0\n",
    "    for j in range(i):\n",
    "        hashed = hash_256(j)\n",
    "        try:\n",
    "            if a[hashed]:\n",
    "                collision_counter += 1\n",
    "        except KeyError:\n",
    "            a[hashed] = True\n",
    "    results_256.append(collision_counter)"
   ]
  },
  {
   "cell_type": "code",
   "execution_count": 16,
   "metadata": {},
   "outputs": [
    {
     "data": {
      "text/plain": [
       "[0, 0, 0, 244, 744, 2244, 9744, 14744, 24744, 49744, 99744, 199744]"
      ]
     },
     "execution_count": 16,
     "metadata": {},
     "output_type": "execute_result"
    }
   ],
   "source": [
    "results_256"
   ]
  },
  {
   "cell_type": "markdown",
   "metadata": {},
   "source": [
    "Функция `hash_65536`:"
   ]
  },
  {
   "cell_type": "code",
   "execution_count": 17,
   "metadata": {},
   "outputs": [
    {
     "data": {
      "application/vnd.jupyter.widget-view+json": {
       "model_id": "b36d5eb77c9043eea0281808be0182de",
       "version_major": 2,
       "version_minor": 0
      },
      "text/html": [
       "<p>Failed to display Jupyter Widget of type <code>HBox</code>.</p>\n",
       "<p>\n",
       "  If you're reading this message in Jupyter Notebook or JupyterLab, it may mean\n",
       "  that the widgets JavaScript is still loading. If this message persists, it\n",
       "  likely means that the widgets JavaScript library is either not installed or\n",
       "  not enabled. See the <a href=\"https://ipywidgets.readthedocs.io/en/stable/user_install.html\">Jupyter\n",
       "  Widgets Documentation</a> for setup instructions.\n",
       "</p>\n",
       "<p>\n",
       "  If you're reading this message in another notebook frontend (for example, a static\n",
       "  rendering on GitHub or <a href=\"https://nbviewer.jupyter.org/\">NBViewer</a>),\n",
       "  it may mean that your frontend doesn't currently support widgets.\n",
       "</p>\n"
      ],
      "text/plain": [
       "HBox(children=(IntProgress(value=0, max=12), HTML(value='')))"
      ]
     },
     "metadata": {},
     "output_type": "display_data"
    },
    {
     "name": "stdout",
     "output_type": "stream",
     "text": [
      "\n"
     ]
    }
   ],
   "source": [
    "results_65536 = []\n",
    "for i in tqdm_notebook(SIZE):\n",
    "    a = {}\n",
    "    collision_counter = 0\n",
    "    for j in range(i):\n",
    "        hashed = hash_65536(j)\n",
    "        try:\n",
    "            if a[hashed]:\n",
    "                collision_counter += 1\n",
    "        except KeyError:\n",
    "            a[hashed] = True\n",
    "    results_65536.append(collision_counter)"
   ]
  },
  {
   "cell_type": "code",
   "execution_count": 18,
   "metadata": {},
   "outputs": [
    {
     "data": {
      "text/plain": [
       "[0, 0, 0, 0, 8, 100, 1259, 2543, 5363, 16481, 53343, 135063]"
      ]
     },
     "execution_count": 18,
     "metadata": {},
     "output_type": "execute_result"
    }
   ],
   "source": [
    "results_65536"
   ]
  },
  {
   "cell_type": "markdown",
   "metadata": {},
   "source": [
    "Функция `hash_md5`:"
   ]
  },
  {
   "cell_type": "code",
   "execution_count": 19,
   "metadata": {},
   "outputs": [
    {
     "data": {
      "application/vnd.jupyter.widget-view+json": {
       "model_id": "bcb49d5d1b5e4ae2af959a7e33453d26",
       "version_major": 2,
       "version_minor": 0
      },
      "text/html": [
       "<p>Failed to display Jupyter Widget of type <code>HBox</code>.</p>\n",
       "<p>\n",
       "  If you're reading this message in Jupyter Notebook or JupyterLab, it may mean\n",
       "  that the widgets JavaScript is still loading. If this message persists, it\n",
       "  likely means that the widgets JavaScript library is either not installed or\n",
       "  not enabled. See the <a href=\"https://ipywidgets.readthedocs.io/en/stable/user_install.html\">Jupyter\n",
       "  Widgets Documentation</a> for setup instructions.\n",
       "</p>\n",
       "<p>\n",
       "  If you're reading this message in another notebook frontend (for example, a static\n",
       "  rendering on GitHub or <a href=\"https://nbviewer.jupyter.org/\">NBViewer</a>),\n",
       "  it may mean that your frontend doesn't currently support widgets.\n",
       "</p>\n"
      ],
      "text/plain": [
       "HBox(children=(IntProgress(value=0, max=12), HTML(value='')))"
      ]
     },
     "metadata": {},
     "output_type": "display_data"
    },
    {
     "name": "stdout",
     "output_type": "stream",
     "text": [
      "\n"
     ]
    }
   ],
   "source": [
    "results_md5 = []\n",
    "for i in tqdm_notebook(SIZE):\n",
    "    a = {}\n",
    "    collision_counter = 0\n",
    "    for j in range(i):\n",
    "        hashed = hash_md5(j)\n",
    "        try:\n",
    "            if a[hashed]:\n",
    "                collision_counter += 1\n",
    "        except KeyError:\n",
    "            a[hashed] = True\n",
    "    results_md5.append(collision_counter)"
   ]
  },
  {
   "cell_type": "code",
   "execution_count": 20,
   "metadata": {},
   "outputs": [
    {
     "data": {
      "text/plain": [
       "[0, 0, 0, 0, 0, 0, 0, 0, 0, 0, 0, 0]"
      ]
     },
     "execution_count": 20,
     "metadata": {},
     "output_type": "execute_result"
    }
   ],
   "source": [
    "results_md5"
   ]
  },
  {
   "cell_type": "markdown",
   "metadata": {},
   "source": [
    "Теперь построим графики количества коллизий в зависимости от размера массива:"
   ]
  },
  {
   "cell_type": "code",
   "execution_count": 21,
   "metadata": {},
   "outputs": [
    {
     "data": {
      "text/plain": [
       "<matplotlib.legend.Legend at 0x172811cd9b0>"
      ]
     },
     "execution_count": 21,
     "metadata": {},
     "output_type": "execute_result"
    },
    {
     "data": {
      "image/png": "[encoded data removed]",
      "text/plain": [
       "<matplotlib.figure.Figure at 0x172806045c0>"
      ]
     },
     "metadata": {},
     "output_type": "display_data"
    }
   ],
   "source": [
    "plt.figure(figsize=(12,12))\n",
    "plt.xlabel('Size', fontsize=20)\n",
    "plt.ylabel('Collisions', fontsize=20)\n",
    "\n",
    "line_256, = plt.plot(SIZE, results_256, linewidth=3, label='Hash 256')\n",
    "line_65536, = plt.plot(SIZE, results_65536, linewidth=3, label='Hash 65536')\n",
    "line_md5, = plt.plot(SIZE, results_md5, linewidth=3, label='Hash MD5')\n",
    "\n",
    "plt.legend(handles=[line_256, line_65536, line_md5], fontsize=17)"
   ]
  },
  {
   "cell_type": "markdown",
   "metadata": {},
   "source": [
    "Очевидно, что из представленных хеш-функций MD5 является наиболее эффективной."
   ]
  }
 ],
 "metadata": {
  "kernelspec": {
   "display_name": "Python 3",
   "language": "python",
   "name": "python3"
  },
  "language_info": {
   "codemirror_mode": {
    "name": "ipython",
    "version": 3
   },
   "file_extension": ".py",
   "mimetype": "text/x-python",
   "name": "python",
   "nbconvert_exporter": "python",
   "pygments_lexer": "ipython3",
   "version": "3.6.3"
  }
 },
 "nbformat": 4,
 "nbformat_minor": 2
}
