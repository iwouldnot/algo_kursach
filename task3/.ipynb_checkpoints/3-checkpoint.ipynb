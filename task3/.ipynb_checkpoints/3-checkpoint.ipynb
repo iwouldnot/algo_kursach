{
 "cells": [
  {
   "cell_type": "markdown",
   "metadata": {},
   "source": [
    "# Задание 3: Исследование эффективности алгоритмов сортировок для различных структур и размерностей данных\n",
    "## Метод Шелла с собственным алгоритмом изменения числа серий\n",
    "Сортировка Шелла (англ. Shell sort) — алгоритм сортировки, являющийся усовершенствованным вариантом сортировки вставками. \n",
    "\n",
    "Идея метода Шелла состоит в сравнении элементов, стоящих не только рядом, но и на определённом расстоянии друг от друга. При сортировке Шелла сначала сравниваются и сортируются между собой значения, стоящие один от другого на некотором расстоянии `d`. После этого процедура повторяется для некоторых меньших значений `d`, а завершается сортировка Шелла упорядочиванием элементов при `d=1` (то есть обычной сортировкой вставками). \n",
    "\n",
    "Реализуем сортировку Шелла, используя шаги (gaps) сортировки, соответствующие факториалам, меньшим размера массива.\n",
    "\n",
    "### Импорт необходимых библиотек:"
   ]
  },
  {
   "cell_type": "code",
   "execution_count": 1,
   "metadata": {},
   "outputs": [],
   "source": [
    "%matplotlib inline\n",
    "import matplotlib.pyplot as plt\n",
    "import matplotlib.patches as mpatches\n",
    "import numpy as np\n",
    "from tqdm import tqdm_notebook\n",
    "import timeit"
   ]
  },
  {
   "cell_type": "markdown",
   "metadata": {},
   "source": [
    "### Реализация нахождения множества факториалов, меньших числа\n",
    "По заданию необходимо реализовать собственный алгоритм изменения числа серий, через которые сортировка Шелла будет проходить по неотсортированному массиву. Эврестически доказано, что наибольшую эффективность показывают шаги, приближенные по соотношению к эспоненциальному росту  значений внутри последовательности, так, например, экспериментально найденная последовательность Марцина Циура $(1, 4, 10, 23, 57, 132, 301, 701, 1750)$ показывает наилучший из известных результатов на множестве элементов, меньшем 4000 по силе. Легко заметить, что приблизительно последовательнсть показывает экспоненциальный рост используемых значений. Поскольку планируется рассматривать массивы чисел, по размеру многократно превышающие 4000, имеет смысл рассматривать такую последовательность,которая сможет соответствующе резко возрастать для увеличивающихся значений массива. \n",
    "\n",
    "Таким образом, нам следует найти функцию, которая экспоненциально возрастает на малых размерах, а затем возрастает еще большими темпами. Также эта функция должна быть дискретно-разделимой, то есть можно получить ее целочисленные значения или целочисленное приближение. Помимо того, крайне желательно, чтобы вычисление этой функции не представляло особой математической или вычислительной сложности, поскольку эта последовательность будет расчитываться каждй раз перед сортировкой, а значит вычислительно сложные функции существенно снизят скорость алгоритма, что недопустимо. \n",
    "\n",
    "На основании вышеперечисленных условий была предпринята попытка рассматривать последовательность факториалов как множества шагов для сортировки Шелла, поскольку наибольший интерес составляет производительность сортировки на больших размерах массива (к примеру, 5000, 30000, 100000 элементов). Скорость возрастания факториала, превышающая скорость возрастания экспоненты, позволяет сортировке более эффективно отсортировывать массив на чрезвычайно больших объемах данных, поскольку такой подход, фактически, будет делить массив на частично отсортированные куски, в то время как меньшие шаги будут работать локально на таких подмассивах. \n",
    "\n",
    "Функция представляет собой последовательное вычисление факториалов, начиная с $1, 2, 6...$ и так далее до некоторого числа $n!$, при этом $n! < k$, где $k$ - мощность сортируемого массива. Максимальный шаг $n!$, меньший $k$, позволяет проходить по массиву величиной $k$ с эффективным делением массива.\n",
    "\n",
    "Прогнозируемая эффективность алгоритма - $O(n^{\\frac{3}{2}})$, с ускорением до $O(n)$ в особых случаях, когда перестановки не требуются. В целом, это средняя эффективность для типичных последовательностей шагов в сортировке Шелла. На различных видах данных такое разбиение шагов может быть как более, так и менее эффективным по сравнению с другими способами. Ожидается, что такой вид разбиения будет более эффективен при больших объемах данных (>10000 элементов).\n",
    "\n",
    "Подобное исследование было проведено с поседовательностью чисел Фибоначчи, но факториальный рост шага показал себя более эффективным на больших объемах данных, в связи с чем было принято использовать именно последовательность факториалов.\n",
    "\n",
    "В завершение отметим, что функция возвращает последовательность факториалов в _обратном_ порядке. Это было сделано для того, чтобы при возвращении значения функции эта последовательность без последующих преобразований использовалась для итерации. Очевидно, что использование шагов в сортировке должно идти от больших шагов к малым."
   ]
  },
  {
   "cell_type": "code",
   "execution_count": 2,
   "metadata": {},
   "outputs": [],
   "source": [
    "def factorial_sequense(cap):\n",
    "    value = 1\n",
    "    i = 1\n",
    "    seq = []\n",
    "    while (value < cap):\n",
    "        seq.append(value)\n",
    "        i += 1\n",
    "        value *= i\n",
    "    return seq[::-1]"
   ]
  },
  {
   "cell_type": "markdown",
   "metadata": {},
   "source": [
    "### Реализация сортировки с заданным факториальным шагом:"
   ]
  },
  {
   "cell_type": "code",
   "execution_count": 3,
   "metadata": {},
   "outputs": [],
   "source": [
    "def shell_sort(collection):\n",
    "    gaps = factorial_sequense(len(collection))\n",
    "\n",
    "    for gap in gaps:\n",
    "        i = gap\n",
    "        while i < len(collection):\n",
    "            temp = collection[i]\n",
    "            j = i\n",
    "            while j >= gap and collection[j - gap] > temp:\n",
    "                collection[j] = collection[j - gap]\n",
    "                j -= gap\n",
    "            collection[j] = temp\n",
    "            i += 1\n",
    "\n",
    "    return collection"
   ]
  },
  {
   "cell_type": "markdown",
   "metadata": {},
   "source": [
    "Для замера производительности будем использовать следующие размеры массивов:"
   ]
  },
  {
   "cell_type": "code",
   "execution_count": 4,
   "metadata": {},
   "outputs": [
    {
     "name": "stdout",
     "output_type": "stream",
     "text": [
      "Будут использованы массивы следующих размеров:  [500, 1000, 3000, 5000, 8000, 10000, 30000, 60000, 120000, 180000]\n"
     ]
    }
   ],
   "source": [
    "size_values = [500, 1000, 3000, 5000, 8000, 10000, 30000, 60000, 120000, 180000]\n",
    "print('Будут использованы массивы следующих размеров: ', size_values)"
   ]
  },
  {
   "cell_type": "markdown",
   "metadata": {},
   "source": [
    "Предварительно сгенерируем массив случайных чисел максимальной из используемых величин, чтобы в дальнейшем использовать его подмассивы для сортировки. В дальнейшем для точности измеряемых показателей мы будем измерять не линейное подмножества массива, а случайно взятые его элементы. Это позволит существенно ускорить процесс измерения производительности алгоритма, поскольку генерировать каждый раз массив случайных чисел для каждой итерации теста будет затратно по времени. Случайная выборка заданного числа элементов из массива реализуется в библиотеке Numpy. "
   ]
  },
  {
   "cell_type": "code",
   "execution_count": 5,
   "metadata": {},
   "outputs": [
    {
     "data": {
      "text/plain": [
       "array([ 82922, 155544,  91466, ...,  15338, 177567,  40107])"
      ]
     },
     "execution_count": 5,
     "metadata": {},
     "output_type": "execute_result"
    }
   ],
   "source": [
    "array = np.random.randint(0, size_values[-1], size_values[-1])\n",
    "array"
   ]
  },
  {
   "cell_type": "markdown",
   "metadata": {},
   "source": [
    "## Обычный случай (случайный массив)"
   ]
  },
  {
   "cell_type": "code",
   "execution_count": 6,
   "metadata": {},
   "outputs": [
    {
     "data": {
      "application/vnd.jupyter.widget-view+json": {
       "model_id": "82165dccbc3747e4ad217f853a168ffd",
       "version_major": 2,
       "version_minor": 0
      },
      "text/html": [
       "<p>Failed to display Jupyter Widget of type <code>HBox</code>.</p>\n",
       "<p>\n",
       "  If you're reading this message in Jupyter Notebook or JupyterLab, it may mean\n",
       "  that the widgets JavaScript is still loading. If this message persists, it\n",
       "  likely means that the widgets JavaScript library is either not installed or\n",
       "  not enabled. See the <a href=\"https://ipywidgets.readthedocs.io/en/stable/user_install.html\">Jupyter\n",
       "  Widgets Documentation</a> for setup instructions.\n",
       "</p>\n",
       "<p>\n",
       "  If you're reading this message in another notebook frontend (for example, a static\n",
       "  rendering on GitHub or <a href=\"https://nbviewer.jupyter.org/\">NBViewer</a>),\n",
       "  it may mean that your frontend doesn't currently support widgets.\n",
       "</p>\n"
      ],
      "text/plain": [
       "HBox(children=(IntProgress(value=0, max=10), HTML(value='')))"
      ]
     },
     "metadata": {},
     "output_type": "display_data"
    },
    {
     "name": "stdout",
     "output_type": "stream",
     "text": [
      "\n"
     ]
    }
   ],
   "source": [
    "iter_number = 3\n",
    "results = {}\n",
    "for i in tqdm_notebook(size_values):\n",
    "    tr = timeit.repeat(\"shell_sort(a)\", \n",
    "                   repeat=5, \n",
    "                   setup=\"a = np.random.choice(array, i)\", \n",
    "                   number=iter_number, \n",
    "                   globals=globals())\n",
    "    results[i] = tr"
   ]
  },
  {
   "cell_type": "code",
   "execution_count": 7,
   "metadata": {},
   "outputs": [],
   "source": [
    "keys_shell = list(results.keys())\n",
    "values_shell = np.array(list(results.values())).mean(axis=1)\n",
    "deviation_shell = np.array(list(results.values())).std(axis=1)\n",
    "results_shell = list(zip(keys_shell, values_shell, deviation_shell))"
   ]
  },
  {
   "cell_type": "code",
   "execution_count": 8,
   "metadata": {},
   "outputs": [
    {
     "name": "stdout",
     "output_type": "stream",
     "text": [
      "Время одной операции сортировки Шелла на обычном массиве:\n",
      "На    500 элементах:  0.00547 ± 0.00014; Разброс замеров: 2.51%\n",
      "На   1000 элементах:  0.01381 ± 0.00091; Разброс замеров: 6.58%\n",
      "На   3000 элементах:  0.06190 ± 0.00439; Разброс замеров: 7.09%\n",
      "На   5000 элементах:  0.12137 ± 0.01045; Разброс замеров: 8.61%\n",
      "На   8000 элементах:  0.23173 ± 0.01690; Разброс замеров: 7.29%\n",
      "На  10000 элементах:  0.31843 ± 0.02251; Разброс замеров: 7.07%\n",
      "На  30000 элементах:  1.56453 ± 0.26465; Разброс замеров: 16.92%\n",
      "На  60000 элементах:  3.73262 ± 0.10651; Разброс замеров: 2.85%\n",
      "На 120000 элементах: 10.10308 ± 0.87834; Разброс замеров: 8.69%\n",
      "На 180000 элементах: 20.29898 ± 3.38518; Разброс замеров: 16.68%\n"
     ]
    }
   ],
   "source": [
    "print('Время одной операции сортировки Шелла на обычном массиве:')\n",
    "for i in results_shell:\n",
    "    print('На {:6d} элементах: {:8.5f} ± {:7.5f};'.format(i[0], i[1], i[2]), end=' ')\n",
    "    print('Разброс замеров: {:.2f}%'.format(i[2] / i[1] * 100))"
   ]
  },
  {
   "cell_type": "markdown",
   "metadata": {},
   "source": [
    "Тесты показывают довольно высокие показатели стабильности работы алгоритма: разброс времени выполнения алогритма на заданной величине массива не превышает 13%. Это дает основания утверждать, что метод сортировки работает стабильно на любых данных.\n",
    "\n",
    "Для доказательства этого утверждения рассмотрим также еще два особых случая для сортировки: отсортированный массив и инвертированный массив."
   ]
  },
  {
   "cell_type": "markdown",
   "metadata": {},
   "source": [
    "## Особый случай: отсортированный массив"
   ]
  },
  {
   "cell_type": "markdown",
   "metadata": {},
   "source": [
    "Отсортируем исходный массив, чтобы получить особый случай сортировки, когда весь массив уже является отсортированным."
   ]
  },
  {
   "cell_type": "code",
   "execution_count": 9,
   "metadata": {},
   "outputs": [
    {
     "data": {
      "text/plain": [
       "array([     1,      5,      5, ..., 179996, 179996, 179996])"
      ]
     },
     "execution_count": 9,
     "metadata": {},
     "output_type": "execute_result"
    }
   ],
   "source": [
    "array = np.sort(array)\n",
    "array"
   ]
  },
  {
   "cell_type": "markdown",
   "metadata": {},
   "source": [
    "Разумеется, при замерах результатов учтем тот факт, что массив уже отсортирован, и вместо того, чтобы забирать случайные числа из массива, будем брать просто часть массива с индексами от `0` до `size - 1`, где `size` - это размер массива на данной итерации тестов."
   ]
  },
  {
   "cell_type": "code",
   "execution_count": 10,
   "metadata": {},
   "outputs": [
    {
     "data": {
      "application/vnd.jupyter.widget-view+json": {
       "model_id": "149829afb42b4f0896c94efdd70b11a9",
       "version_major": 2,
       "version_minor": 0
      },
      "text/html": [
       "<p>Failed to display Jupyter Widget of type <code>HBox</code>.</p>\n",
       "<p>\n",
       "  If you're reading this message in Jupyter Notebook or JupyterLab, it may mean\n",
       "  that the widgets JavaScript is still loading. If this message persists, it\n",
       "  likely means that the widgets JavaScript library is either not installed or\n",
       "  not enabled. See the <a href=\"https://ipywidgets.readthedocs.io/en/stable/user_install.html\">Jupyter\n",
       "  Widgets Documentation</a> for setup instructions.\n",
       "</p>\n",
       "<p>\n",
       "  If you're reading this message in another notebook frontend (for example, a static\n",
       "  rendering on GitHub or <a href=\"https://nbviewer.jupyter.org/\">NBViewer</a>),\n",
       "  it may mean that your frontend doesn't currently support widgets.\n",
       "</p>\n"
      ],
      "text/plain": [
       "HBox(children=(IntProgress(value=0, max=10), HTML(value='')))"
      ]
     },
     "metadata": {},
     "output_type": "display_data"
    },
    {
     "name": "stdout",
     "output_type": "stream",
     "text": [
      "\n"
     ]
    }
   ],
   "source": [
    "iter_number = 10\n",
    "results = {}\n",
    "for i in tqdm_notebook(size_values):\n",
    "    tr = timeit.repeat(\"shell_sort(a)\", \n",
    "                   repeat=10, \n",
    "                   setup=\"a = array[:i]\", \n",
    "                   number=iter_number, \n",
    "                   globals=globals())\n",
    "    results[i] = tr"
   ]
  },
  {
   "cell_type": "code",
   "execution_count": 11,
   "metadata": {},
   "outputs": [],
   "source": [
    "keys_shell_sorted = list(results.keys())\n",
    "values_shell_sorted = np.array(list(results.values())).mean(axis=1)\n",
    "deviation_shell_sorted = np.array(list(results.values())).std(axis=1)\n",
    "results_shell_sorted = list(zip(keys_shell_sorted, values_shell_sorted, deviation_shell_sorted))"
   ]
  },
  {
   "cell_type": "code",
   "execution_count": 12,
   "metadata": {},
   "outputs": [
    {
     "name": "stdout",
     "output_type": "stream",
     "text": [
      "Время одной операции сортировки Шелла на отсортированном массиве:\n",
      "На    500 элементах:  0.01039 ± 0.00020; Разброс замеров: 1.91%\n",
      "На   1000 элементах:  0.02277 ± 0.00026; Разброс замеров: 1.16%\n",
      "На   3000 элементах:  0.07760 ± 0.00076; Разброс замеров: 0.98%\n",
      "На   5000 элементах:  0.13093 ± 0.00099; Разброс замеров: 0.76%\n",
      "На   8000 элементах:  0.22772 ± 0.00113; Разброс замеров: 0.50%\n",
      "На  10000 элементах:  0.29175 ± 0.00080; Разброс замеров: 0.27%\n",
      "На  30000 элементах:  0.92645 ± 0.00972; Разброс замеров: 1.05%\n",
      "На  60000 элементах:  1.96648 ± 0.01833; Разброс замеров: 0.93%\n",
      "На 120000 элементах:  4.14801 ± 0.05509; Разброс замеров: 1.33%\n",
      "На 180000 элементах:  6.34891 ± 0.03673; Разброс замеров: 0.58%\n"
     ]
    }
   ],
   "source": [
    "print('Время одной операции сортировки Шелла на отсортированном массиве:')\n",
    "for i in results_shell_sorted:\n",
    "    print('На {:6d} элементах: {:8.5f} ± {:7.5f};'.format(i[0], i[1], i[2]), end=' ')\n",
    "    print('Разброс замеров: {:.2f}%'.format(i[2] / i[1] * 100))"
   ]
  },
  {
   "cell_type": "markdown",
   "metadata": {},
   "source": [
    "На отсортированном массиве сортировка показывает существенное (приблизительно в 3 раза) ускорение прохождения по массиву, так как весь алгоритм заключается только в линейном проходе по массиву на каждом из шагов."
   ]
  },
  {
   "cell_type": "markdown",
   "metadata": {},
   "source": [
    "## Особый случай: инвертированный массив"
   ]
  },
  {
   "cell_type": "markdown",
   "metadata": {},
   "source": [
    "Инвертируем прежде отсортированный массив, получим массив, в котором все числа идут по убыванию:"
   ]
  },
  {
   "cell_type": "code",
   "execution_count": 13,
   "metadata": {},
   "outputs": [
    {
     "data": {
      "text/plain": [
       "array([179996, 179996, 179996, ...,      5,      5,      1])"
      ]
     },
     "execution_count": 13,
     "metadata": {},
     "output_type": "execute_result"
    }
   ],
   "source": [
    "array = array[::-1]\n",
    "array"
   ]
  },
  {
   "cell_type": "code",
   "execution_count": 14,
   "metadata": {},
   "outputs": [
    {
     "data": {
      "application/vnd.jupyter.widget-view+json": {
       "model_id": "f394aa65d8d64da394f2b5edf1815a0c",
       "version_major": 2,
       "version_minor": 0
      },
      "text/html": [
       "<p>Failed to display Jupyter Widget of type <code>HBox</code>.</p>\n",
       "<p>\n",
       "  If you're reading this message in Jupyter Notebook or JupyterLab, it may mean\n",
       "  that the widgets JavaScript is still loading. If this message persists, it\n",
       "  likely means that the widgets JavaScript library is either not installed or\n",
       "  not enabled. See the <a href=\"https://ipywidgets.readthedocs.io/en/stable/user_install.html\">Jupyter\n",
       "  Widgets Documentation</a> for setup instructions.\n",
       "</p>\n",
       "<p>\n",
       "  If you're reading this message in another notebook frontend (for example, a static\n",
       "  rendering on GitHub or <a href=\"https://nbviewer.jupyter.org/\">NBViewer</a>),\n",
       "  it may mean that your frontend doesn't currently support widgets.\n",
       "</p>\n"
      ],
      "text/plain": [
       "HBox(children=(IntProgress(value=0, max=10), HTML(value='')))"
      ]
     },
     "metadata": {},
     "output_type": "display_data"
    },
    {
     "name": "stdout",
     "output_type": "stream",
     "text": [
      "\n"
     ]
    }
   ],
   "source": [
    "iter_number = 5\n",
    "results = {}\n",
    "for i in tqdm_notebook(size_values):\n",
    "    tr = timeit.repeat(\"shell_sort(a)\", \n",
    "                   repeat=10, \n",
    "                   setup=\"a = array[:i]\", \n",
    "                   number=iter_number, \n",
    "                   globals=globals())\n",
    "    results[i] = tr"
   ]
  },
  {
   "cell_type": "code",
   "execution_count": 15,
   "metadata": {},
   "outputs": [],
   "source": [
    "keys_shell_reversed = list(results.keys())\n",
    "values_shell_reversed = np.array(list(results.values())).mean(axis=1)\n",
    "deviation_shell_reversed = np.array(list(results.values())).std(axis=1)\n",
    "results_shell_reversed = list(zip(keys_shell_reversed, values_shell_reversed, deviation_shell_reversed))"
   ]
  },
  {
   "cell_type": "code",
   "execution_count": 16,
   "metadata": {},
   "outputs": [
    {
     "name": "stdout",
     "output_type": "stream",
     "text": [
      "Время одной операции сортировки Шелла на инвертированном массиве:\n",
      "На    500 элементах:  0.00543 ± 0.00027; Разброс замеров: 4.98%\n",
      "На   1000 элементах:  0.01179 ± 0.00032; Разброс замеров: 2.70%\n",
      "На   3000 элементах:  0.03918 ± 0.00243; Разброс замеров: 6.19%\n",
      "На   5000 элементах:  0.06658 ± 0.00347; Разброс замеров: 5.21%\n",
      "На   8000 элементах:  0.11513 ± 0.00298; Разброс замеров: 2.59%\n",
      "На  10000 элементах:  0.14906 ± 0.00616; Разброс замеров: 4.13%\n",
      "На  30000 элементах:  0.47983 ± 0.03362; Разброс замеров: 7.01%\n",
      "На  60000 элементах:  1.01307 ± 0.04833; Разброс замеров: 4.77%\n",
      "На 120000 элементах:  2.09054 ± 0.13141; Разброс замеров: 6.29%\n",
      "На 180000 элементах:  3.25861 ± 0.15347; Разброс замеров: 4.71%\n"
     ]
    }
   ],
   "source": [
    "print('Время одной операции сортировки Шелла на инвертированном массиве:')\n",
    "for i in results_shell_reversed:\n",
    "    print('На {:6d} элементах: {:8.5f} ± {:7.5f};'.format(i[0], i[1], i[2]), end=' ')\n",
    "    print('Разброс замеров: {:.2f}%'.format(i[2] / i[1] * 100))"
   ]
  },
  {
   "cell_type": "markdown",
   "metadata": {},
   "source": [
    "Проход по инвертированному массиву также показал хорошие результаты, так как существенно упрощается процедура перестановок элементов из-за эффективного деления массива на шагах.\n",
    "\n",
    "## Построение графиков экспериментальных данных\n",
    "Построим графики каждого "
   ]
  },
  {
   "cell_type": "code",
   "execution_count": 17,
   "metadata": {},
   "outputs": [
    {
     "data": {
      "text/plain": [
       "<matplotlib.legend.Legend at 0x181500427f0>"
      ]
     },
     "execution_count": 17,
     "metadata": {},
     "output_type": "execute_result"
    },
    {
     "data": {
      "image/png": "[encoded data removed]",
      "text/plain": [
       "<matplotlib.figure.Figure at 0x1814fcf99e8>"
      ]
     },
     "metadata": {},
     "output_type": "display_data"
    }
   ],
   "source": [
    "plt.figure(num=1, figsize=(11,11))\n",
    "\n",
    "\"\"\" Обычный массив \"\"\"\n",
    "plt.plot(size_values, values_shell, 'b-', linewidth=4.0, alpha=0.7)\n",
    "plt.xlabel('Size of array', fontsize=18)\n",
    "plt.ylabel('Time in sec', fontsize=18)\n",
    "plt.fill_between(size_values, \n",
    "                 values_shell + deviation_shell, \n",
    "                 values_shell - deviation_shell, \n",
    "                 interpolate=True, \n",
    "                 facecolor='lightblue',\n",
    "                 alpha=0.6)\n",
    "value_shell_patch = mpatches.Patch(color='b', label='Shell value')\n",
    "std_shell_patch = mpatches.Patch(color='lightblue', label='Shell std')\n",
    "\n",
    "\"\"\" Отсортированный массив \"\"\"\n",
    "plt.plot(size_values, values_shell_sorted, 'g-', linewidth=2.0)\n",
    "plt.fill_between(size_values, \n",
    "                 values_shell_sorted + deviation_shell_sorted, \n",
    "                 values_shell_sorted - deviation_shell_sorted, \n",
    "                 interpolate=True, \n",
    "                 facecolor='lightgreen')\n",
    "value_shell_sorted_patch = mpatches.Patch(color='g', label='Sorted Shell value')\n",
    "std_shell_sorted_patch = mpatches.Patch(color='lightgreen', label='Reversed Shell std')\n",
    "\n",
    "\"\"\" Инвертированный массив \"\"\"\n",
    "plt.plot(size_values, values_shell_reversed, 'r-', linewidth=2.0)\n",
    "plt.fill_between(size_values, \n",
    "                 values_shell_reversed + deviation_shell_reversed, \n",
    "                 values_shell_reversed - deviation_shell_reversed, \n",
    "                 interpolate=True, \n",
    "                 facecolor='pink')\n",
    "value_shell_reversed_patch = mpatches.Patch(color='r', label='Reversed Shell value')\n",
    "std_shell_reversed_patch = mpatches.Patch(color='pink', label='Reversed Shell std')\n",
    "\n",
    "plt.legend(handles=[value_shell_patch, \n",
    "                    std_shell_patch,\n",
    "                    value_shell_sorted_patch,\n",
    "                    std_shell_sorted_patch,\n",
    "                    value_shell_reversed_patch, \n",
    "                    std_shell_reversed_patch], \n",
    "           loc=2, \n",
    "           fontsize=20)"
   ]
  },
  {
   "cell_type": "markdown",
   "metadata": {},
   "source": [
    "## Выводы:\n",
    "Исходя из графического представления результатов экспериментов, можно утверждать, что сортировка Шелла довольно устойчива к особым видам данных, к примеру, отсортированным. Для сортировки Шелла довольно трудно подобрать такой случай, чтобы производительность падала хуже среднестатистического случая, как правило, эти случаи являются частными случаями для метода определения шага.\n",
    "\n",
    "Экспериментально показано, что средняя производительность алгоритма с подбором шага по последовательности факториалов приблизительно равна $O(n^{\\frac{3}{2}})$, что соответствует средней оценке сложности алгоритма Шелла с типичными шагами сортировки."
   ]
  }
 ],
 "metadata": {
  "kernelspec": {
   "display_name": "Python 3",
   "language": "python",
   "name": "python3"
  },
  "language_info": {
   "codemirror_mode": {
    "name": "ipython",
    "version": 3
   },
   "file_extension": ".py",
   "mimetype": "text/x-python",
   "name": "python",
   "nbconvert_exporter": "python",
   "pygments_lexer": "ipython3",
   "version": "3.6.3"
  }
 },
 "nbformat": 4,
 "nbformat_minor": 2
}
