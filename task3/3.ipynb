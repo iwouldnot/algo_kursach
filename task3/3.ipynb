{
 "cells": [
  {
   "cell_type": "markdown",
   "metadata": {},
   "source": [
    "# Задание 3: Исследование эффективности алгоритмов сортировок для различных структур и размерностей данных\n",
    "## Метод Шелла с собственным алгоритмом изменения числа серий\n",
    "Сортировка Шелла (англ. Shell sort) — алгоритм сортировки, являющийся усовершенствованным вариантом сортировки вставками. \n",
    "\n",
    "Идея метода Шелла состоит в сравнении элементов, стоящих не только рядом, но и на определённом расстоянии друг от друга. При сортировке Шелла сначала сравниваются и сортируются между собой значения, стоящие один от другого на некотором расстоянии `d`. После этого процедура повторяется для некоторых меньших значений `d`, а завершается сортировка Шелла упорядочиванием элементов при `d=1` (то есть обычной сортировкой вставками). \n",
    "\n",
    "Реализуем сортировку Шелла, используя шаги (gaps) сортировки, соответствующие факториалам, меньшим размера массива.\n",
    "\n",
    "### Импорт необходимых библиотек:"
   ]
  },
  {
   "cell_type": "code",
   "execution_count": 1,
   "metadata": {},
   "outputs": [],
   "source": [
    "%matplotlib inline\n",
    "import matplotlib.pyplot as plt\n",
    "import matplotlib.patches as mpatches\n",
    "import numpy as np\n",
    "from tqdm import tqdm_notebook\n",
    "import timeit"
   ]
  },
  {
   "cell_type": "markdown",
   "metadata": {},
   "source": [
    "### Реализация нахождения множества факториалов, меньших числа\n",
    "По заданию необходимо реализовать собственный алгоритм изменения числа серий, через которые сортировка Шелла будет проходить по неотсортированному массиву. Эврестически доказано, что наибольшую эффективность показывают шаги, приближенные по соотношению к эспоненциальному росту  значений внутри последовательности, так, например, экспериментально найденная последовательность Марцина Циура $(1, 4, 10, 23, 57, 132, 301, 701, 1750)$ показывает наилучший из известных результатов на множестве элементов, меньшем 4000 по силе. Легко заметить, что приблизительно последовательнсть показывает экспоненциальный рост используемых значений. Поскольку планируется рассматривать массивы чисел, по размеру многократно превышающие 4000, имеет смысл рассматривать такую последовательность,которая сможет соответствующе резко возрастать для увеличивающихся значений массива. \n",
    "\n",
    "Таким образом, нам следует найти функцию, которая экспоненциально возрастает на малых размерах, а затем возрастает еще большими темпами. Также эта функция должна быть дискретно-разделимой, то есть можно получить ее целочисленные значения или целочисленное приближение. Помимо того, крайне желательно, чтобы вычисление этой функции не представляло особой математической или вычислительной сложности, поскольку эта последовательность будет расчитываться каждй раз перед сортировкой, а значит вычислительно сложные функции существенно снизят скорость алгоритма, что недопустимо. \n",
    "\n",
    "На основании вышеперечисленных условий была предпринята попытка рассматривать последовательность факториалов как множества шагов для сортировки Шелла, поскольку наибольший интерес составляет производительность сортировки на больших размерах массива (к примеру, 5000, 30000, 100000 элементов). Скорость возрастания факториала, превышающая скорость возрастания экспоненты, позволяет сортировке более эффективно отсортировывать массив на чрезвычайно больших объемах данных, поскольку такой подход, фактически, будет делить массив на частично отсортированные куски, в то время как меньшие шаги будут работать локально на таких подмассивах. \n",
    "\n",
    "Функция представляет собой последовательное вычисление факториалов, начиная с $1, 2, 6...$ и так далее до некоторого числа $n!$, при этом $n! < k$, где $k$ - мощность сортируемого массива. Максимальный шаг $n!$, меньший $k$, позволяет проходить по массиву величиной $k$ с эффективным делением массива.\n",
    "\n",
    "Прогнозируемая эффективность алгоритма - $O(n^{\\frac{3}{2}})$, с ускорением до $O(n)$ в особых случаях, когда перестановки не требуются. В целом, это средняя эффективность для типичных последовательностей шагов в сортировке Шелла. На различных видах данных такое разбиение шагов может быть как более, так и менее эффективным по сравнению с другими способами. Ожидается, что такой вид разбиения будет более эффективен при больших объемах данных (>10000 элементов).\n",
    "\n",
    "Подобное исследование было проведено с поседовательностью чисел Фибоначчи, но факториальный рост шага показал себя более эффективным на больших объемах данных, в связи с чем было принято использовать именно последовательность факториалов.\n",
    "\n",
    "В завершение отметим, что функция возвращает последовательность факториалов в _обратном_ порядке. Это было сделано для того, чтобы при возвращении значения функции эта последовательность без последующих преобразований использовалась для итерации. Очевидно, что использование шагов в сортировке должно идти от больших шагов к малым."
   ]
  },
  {
   "cell_type": "code",
   "execution_count": 2,
   "metadata": {
    "collapsed": true
   },
   "outputs": [],
   "source": [
    "def factorial_sequense(cap):\n",
    "    value = 1\n",
    "    i = 1\n",
    "    seq = []\n",
    "    while (value < cap):\n",
    "        seq.append(value)\n",
    "        i += 1\n",
    "        value *= i\n",
    "    return seq[::-1]"
   ]
  },
  {
   "cell_type": "markdown",
   "metadata": {},
   "source": [
    "### Реализация сортировки с заданным факториальным шагом:"
   ]
  },
  {
   "cell_type": "code",
   "execution_count": 3,
   "metadata": {
    "collapsed": true
   },
   "outputs": [],
   "source": [
    "def shell_sort(collection):\n",
    "    gaps = factorial_sequense(len(collection))\n",
    "\n",
    "    for gap in gaps:\n",
    "        i = gap\n",
    "        while i < len(collection):\n",
    "            temp = collection[i]\n",
    "            j = i\n",
    "            while j >= gap and collection[j - gap] > temp:\n",
    "                collection[j] = collection[j - gap]\n",
    "                j -= gap\n",
    "            collection[j] = temp\n",
    "            i += 1\n",
    "\n",
    "    return collection"
   ]
  },
  {
   "cell_type": "markdown",
   "metadata": {},
   "source": [
    "Для замера производительности будем использовать следующие размеры массивов:"
   ]
  },
  {
   "cell_type": "code",
   "execution_count": 4,
   "metadata": {},
   "outputs": [
    {
     "name": "stdout",
     "output_type": "stream",
     "text": [
      "Будут использованы массивы следующих размеров:  [500, 1000, 3000, 5000, 8000, 10000, 30000, 60000, 120000, 180000]\n"
     ]
    }
   ],
   "source": [
    "size_values = [500, 1000, 3000, 5000, 8000, 10000, 30000, 60000, 120000, 180000]\n",
    "print('Будут использованы массивы следующих размеров: ', size_values)"
   ]
  },
  {
   "cell_type": "markdown",
   "metadata": {},
   "source": [
    "Предварительно сгенерируем массив случайных чисел максимальной из используемых величин, чтобы в дальнейшем использовать его подмассивы для сортировки. В дальнейшем для точности измеряемых показателей мы будем измерять не линейное подмножества массива, а случайно взятые его элементы. Это позволит существенно ускорить процесс измерения производительности алгоритма, поскольку генерировать каждый раз массив случайных чисел для каждой итерации теста будет затратно по времени. Случайная выборка заданного числа элементов из массива реализуется в библиотеке Numpy. "
   ]
  },
  {
   "cell_type": "code",
   "execution_count": 5,
   "metadata": {},
   "outputs": [
    {
     "data": {
      "text/plain": [
       "array([  2955, 106443,  19457, ...,  88209,  67263,   6414])"
      ]
     },
     "execution_count": 5,
     "metadata": {},
     "output_type": "execute_result"
    }
   ],
   "source": [
    "array = np.random.randint(0, size_values[-1], size_values[-1])\n",
    "array"
   ]
  },
  {
   "cell_type": "markdown",
   "metadata": {},
   "source": [
    "## Обычный случай (случайный массив)"
   ]
  },
  {
   "cell_type": "code",
   "execution_count": 6,
   "metadata": {},
   "outputs": [
    {
     "data": {
      "application/vnd.jupyter.widget-view+json": {
       "model_id": "037b5bba30774558aa818ba3594dbd32"
      }
     },
     "metadata": {},
     "output_type": "display_data"
    },
    {
     "name": "stdout",
     "output_type": "stream",
     "text": [
      "\n"
     ]
    }
   ],
   "source": [
    "iter_number = 3\n",
    "results = {}\n",
    "for i in tqdm_notebook(size_values):\n",
    "    tr = timeit.repeat(\"shell_sort(a)\", \n",
    "                   repeat=5, \n",
    "                   setup=\"a = np.random.choice(array, i)\", \n",
    "                   number=iter_number, \n",
    "                   globals=globals())\n",
    "    results[i] = tr"
   ]
  },
  {
   "cell_type": "code",
   "execution_count": 7,
   "metadata": {
    "collapsed": true
   },
   "outputs": [],
   "source": [
    "keys_shell = list(results.keys())\n",
    "values_shell = np.array(list(results.values())).mean(axis=1)\n",
    "deviation_shell = np.array(list(results.values())).std(axis=1)\n",
    "results_shell = list(zip(keys_shell, values_shell, deviation_shell))"
   ]
  },
  {
   "cell_type": "code",
   "execution_count": 8,
   "metadata": {},
   "outputs": [
    {
     "name": "stdout",
     "output_type": "stream",
     "text": [
      "Время одной операции сортировки Шелла на обычном массиве (в секундах):\n",
      "На    500 элементах:  0.00615 ± 0.00044 секунд; Разброс замеров: 7.14%\n",
      "На   1000 элементах:  0.01521 ± 0.00077 секунд; Разброс замеров: 5.07%\n",
      "На   3000 элементах:  0.06583 ± 0.00421 секунд; Разброс замеров: 6.40%\n",
      "На   5000 элементах:  0.14519 ± 0.01480 секунд; Разброс замеров: 10.19%\n",
      "На   8000 элементах:  0.24826 ± 0.03029 секунд; Разброс замеров: 12.20%\n",
      "На  10000 элементах:  0.32143 ± 0.01767 секунд; Разброс замеров: 5.50%\n",
      "На  30000 элементах:  1.61356 ± 0.12085 секунд; Разброс замеров: 7.49%\n",
      "На  60000 элементах:  4.85677 ± 0.69458 секунд; Разброс замеров: 14.30%\n",
      "На 120000 элементах: 11.36349 ± 0.95147 секунд; Разброс замеров: 8.37%\n",
      "На 180000 элементах: 19.83322 ± 1.25466 секунд; Разброс замеров: 6.33%\n"
     ]
    }
   ],
   "source": [
    "print('Время одной операции сортировки Шелла на обычном массиве (в секундах):')\n",
    "for i in results_shell:\n",
    "    print('На {:6d} элементах: {:8.5f} ± {:7.5f} секунд;'.format(i[0], i[1], i[2]), end=' ')\n",
    "    print('Разброс замеров: {:.2f}%'.format(i[2] / i[1] * 100))"
   ]
  },
  {
   "cell_type": "markdown",
   "metadata": {},
   "source": [
    "Тесты показывают довольно высокие показатели стабильности работы алгоритма: разброс времени выполнения алогритма на заданной величине массива не превышает 13%. Это дает основания утверждать, что метод сортировки работает стабильно на любых данных.\n",
    "\n",
    "Для доказательства этого утверждения рассмотрим также еще два особых случая для сортировки: отсортированный массив и инвертированный массив."
   ]
  },
  {
   "cell_type": "markdown",
   "metadata": {},
   "source": [
    "## Особый случай: отсортированный массив"
   ]
  },
  {
   "cell_type": "markdown",
   "metadata": {},
   "source": [
    "Отсортируем исходный массив, чтобы получить особый случай сортировки, когда весь массив уже является отсортированным."
   ]
  },
  {
   "cell_type": "code",
   "execution_count": 9,
   "metadata": {},
   "outputs": [
    {
     "data": {
      "text/plain": [
       "array([     0,      1,      2, ..., 179998, 179999, 179999])"
      ]
     },
     "execution_count": 9,
     "metadata": {},
     "output_type": "execute_result"
    }
   ],
   "source": [
    "array = np.sort(array)\n",
    "array"
   ]
  },
  {
   "cell_type": "markdown",
   "metadata": {},
   "source": [
    "Разумеется, при замерах результатов учтем тот факт, что массив уже отсортирован, и вместо того, чтобы забирать случайные числа из массива, будем брать просто часть массива с индексами от `0` до `size - 1`, где `size` - это размер массива на данной итерации тестов."
   ]
  },
  {
   "cell_type": "code",
   "execution_count": 10,
   "metadata": {},
   "outputs": [
    {
     "data": {
      "application/vnd.jupyter.widget-view+json": {
       "model_id": "7d5de51128d746ca892fecc12bb54db5"
      }
     },
     "metadata": {},
     "output_type": "display_data"
    },
    {
     "name": "stdout",
     "output_type": "stream",
     "text": [
      "\n"
     ]
    }
   ],
   "source": [
    "iter_number = 10\n",
    "results = {}\n",
    "for i in tqdm_notebook(size_values):\n",
    "    tr = timeit.repeat(\"shell_sort(a)\", \n",
    "                   repeat=10, \n",
    "                   setup=\"a = array[:i]\", \n",
    "                   number=iter_number, \n",
    "                   globals=globals())\n",
    "    results[i] = tr"
   ]
  },
  {
   "cell_type": "code",
   "execution_count": 11,
   "metadata": {
    "collapsed": true
   },
   "outputs": [],
   "source": [
    "keys_shell_sorted = list(results.keys())\n",
    "values_shell_sorted = np.array(list(results.values())).mean(axis=1)\n",
    "deviation_shell_sorted = np.array(list(results.values())).std(axis=1)\n",
    "results_shell_sorted = list(zip(keys_shell_sorted, values_shell_sorted, deviation_shell_sorted))"
   ]
  },
  {
   "cell_type": "code",
   "execution_count": 12,
   "metadata": {},
   "outputs": [
    {
     "name": "stdout",
     "output_type": "stream",
     "text": [
      "Время одной операции сортировки Шелла на отсортированном массиве (в секундах):\n",
      "На    500 элементах:  0.01165 ± 0.00041 секунд; Разброс замеров: 3.56%\n",
      "На   1000 элементах:  0.02548 ± 0.00024 секунд; Разброс замеров: 0.94%\n",
      "На   3000 элементах:  0.08588 ± 0.00035 секунд; Разброс замеров: 0.41%\n",
      "На   5000 элементах:  0.14682 ± 0.00053 секунд; Разброс замеров: 0.36%\n",
      "На   8000 элементах:  0.25928 ± 0.00815 секунд; Разброс замеров: 3.14%\n",
      "На  10000 элементах:  0.32313 ± 0.00089 секунд; Разброс замеров: 0.27%\n",
      "На  30000 элементах:  1.03073 ± 0.01226 секунд; Разброс замеров: 1.19%\n",
      "На  60000 элементах:  2.23845 ± 0.06440 секунд; Разброс замеров: 2.88%\n",
      "На 120000 элементах:  5.04879 ± 0.19445 секунд; Разброс замеров: 3.85%\n",
      "На 180000 элементах:  7.34101 ± 0.25804 секунд; Разброс замеров: 3.52%\n"
     ]
    }
   ],
   "source": [
    "print('Время одной операции сортировки Шелла на отсортированном массиве (в секундах):')\n",
    "for i in results_shell_sorted:\n",
    "    print('На {:6d} элементах: {:8.5f} ± {:7.5f} секунд;'.format(i[0], i[1], i[2]), end=' ')\n",
    "    print('Разброс замеров: {:.2f}%'.format(i[2] / i[1] * 100))"
   ]
  },
  {
   "cell_type": "markdown",
   "metadata": {},
   "source": [
    "На отсортированном массиве сортировка показывает существенное (приблизительно в 3 раза) ускорение прохождения по массиву, так как весь алгоритм заключается только в линейном проходе по массиву на каждом из шагов."
   ]
  },
  {
   "cell_type": "markdown",
   "metadata": {},
   "source": [
    "## Особый случай: инвертированный массив"
   ]
  },
  {
   "cell_type": "markdown",
   "metadata": {},
   "source": [
    "Инвертируем прежде отсортированный массив, получим массив, в котором все числа идут по убыванию:"
   ]
  },
  {
   "cell_type": "code",
   "execution_count": 13,
   "metadata": {},
   "outputs": [
    {
     "data": {
      "text/plain": [
       "array([179999, 179999, 179998, ...,      2,      1,      0])"
      ]
     },
     "execution_count": 13,
     "metadata": {},
     "output_type": "execute_result"
    }
   ],
   "source": [
    "array = array[::-1]\n",
    "array"
   ]
  },
  {
   "cell_type": "code",
   "execution_count": 14,
   "metadata": {},
   "outputs": [
    {
     "data": {
      "application/vnd.jupyter.widget-view+json": {
       "model_id": "b3bf1731f5e145bdb0736e792eea7132"
      }
     },
     "metadata": {},
     "output_type": "display_data"
    },
    {
     "name": "stdout",
     "output_type": "stream",
     "text": [
      "\n"
     ]
    }
   ],
   "source": [
    "iter_number = 5\n",
    "results = {}\n",
    "for i in tqdm_notebook(size_values):\n",
    "    tr = timeit.repeat(\"shell_sort(a)\", \n",
    "                   repeat=10, \n",
    "                   setup=\"a = array[:i]\", \n",
    "                   number=iter_number, \n",
    "                   globals=globals())\n",
    "    results[i] = tr"
   ]
  },
  {
   "cell_type": "code",
   "execution_count": 15,
   "metadata": {
    "collapsed": true
   },
   "outputs": [],
   "source": [
    "keys_shell_reversed = list(results.keys())\n",
    "values_shell_reversed = np.array(list(results.values())).mean(axis=1)\n",
    "deviation_shell_reversed = np.array(list(results.values())).std(axis=1)\n",
    "results_shell_reversed = list(zip(keys_shell_reversed, values_shell_reversed, deviation_shell_reversed))"
   ]
  },
  {
   "cell_type": "code",
   "execution_count": 16,
   "metadata": {},
   "outputs": [
    {
     "name": "stdout",
     "output_type": "stream",
     "text": [
      "Время одной операции сортировки Шелла на инвертированном массиве (в секундах):\n",
      "На    500 элементах:  0.00601 ± 0.00032 секунд; Разброс замеров: 5.35%\n",
      "На   1000 элементах:  0.01310 ± 0.00050 секунд; Разброс замеров: 3.85%\n",
      "На   3000 элементах:  0.04666 ± 0.00267 секунд; Разброс замеров: 5.73%\n",
      "На   5000 элементах:  0.07782 ± 0.00344 секунд; Разброс замеров: 4.42%\n",
      "На   8000 элементах:  0.13312 ± 0.00723 секунд; Разброс замеров: 5.43%\n",
      "На  10000 элементах:  0.18260 ± 0.00619 секунд; Разброс замеров: 3.39%\n",
      "На  30000 элементах:  0.53631 ± 0.03477 секунд; Разброс замеров: 6.48%\n",
      "На  60000 элементах:  1.23101 ± 0.07157 секунд; Разброс замеров: 5.81%\n",
      "На 120000 элементах:  2.51800 ± 0.14859 секунд; Разброс замеров: 5.90%\n",
      "На 180000 элементах:  3.78964 ± 0.17329 секунд; Разброс замеров: 4.57%\n"
     ]
    }
   ],
   "source": [
    "print('Время одной операции сортировки Шелла на инвертированном массиве (в секундах):')\n",
    "for i in results_shell_reversed:\n",
    "    print('На {:6d} элементах: {:8.5f} ± {:7.5f} секунд;'.format(i[0], i[1], i[2]), end=' ')\n",
    "    print('Разброс замеров: {:.2f}%'.format(i[2] / i[1] * 100))"
   ]
  },
  {
   "cell_type": "markdown",
   "metadata": {},
   "source": [
    "Проход по инвертированному массиву также показал хорошие результаты, так как существенно упрощается процедура перестановок элементов из-за эффективного деления массива на шагах.\n",
    "\n",
    "## Построение графиков экспериментальных данных\n",
    "Построим графики каждого "
   ]
  },
  {
   "cell_type": "code",
   "execution_count": 17,
   "metadata": {},
   "outputs": [
    {
     "data": {
      "text/plain": [
       "<matplotlib.legend.Legend at 0x1c969274320>"
      ]
     },
     "execution_count": 17,
     "metadata": {},
     "output_type": "execute_result"
    },
    {
     "data": {
      "image/png": "[encoded data removed]",
      "text/plain": [
       "<matplotlib.figure.Figure at 0x1c965bb9b70>"
      ]
     },
     "metadata": {},
     "output_type": "display_data"
    }
   ],
   "source": [
    "plt.figure(num=1, figsize=(11,11))\n",
    "\n",
    "\"\"\" Обычный массив \"\"\"\n",
    "plt.plot(size_values, values_shell, 'b-', linewidth=4.0, alpha=0.7)\n",
    "plt.xlabel('Size of array', fontsize=18)\n",
    "plt.ylabel('Time in sec', fontsize=18)\n",
    "plt.fill_between(size_values, \n",
    "                 values_shell + deviation_shell, \n",
    "                 values_shell - deviation_shell, \n",
    "                 interpolate=True, \n",
    "                 facecolor='lightblue',\n",
    "                 alpha=0.6)\n",
    "value_shell_patch = mpatches.Patch(color='b', label='Shell value')\n",
    "std_shell_patch = mpatches.Patch(color='lightblue', label='Shell std')\n",
    "\n",
    "\"\"\" Отсортированный массив \"\"\"\n",
    "plt.plot(size_values, values_shell_sorted, 'g-', linewidth=2.0)\n",
    "plt.fill_between(size_values, \n",
    "                 values_shell_sorted + deviation_shell_sorted, \n",
    "                 values_shell_sorted - deviation_shell_sorted, \n",
    "                 interpolate=True, \n",
    "                 facecolor='lightgreen')\n",
    "value_shell_sorted_patch = mpatches.Patch(color='g', label='Sorted Shell value')\n",
    "std_shell_sorted_patch = mpatches.Patch(color='lightgreen', label='Reversed Shell std')\n",
    "\n",
    "\"\"\" Инвертированный массив \"\"\"\n",
    "plt.plot(size_values, values_shell_reversed, 'r-', linewidth=2.0)\n",
    "plt.fill_between(size_values, \n",
    "                 values_shell_reversed + deviation_shell_reversed, \n",
    "                 values_shell_reversed - deviation_shell_reversed, \n",
    "                 interpolate=True, \n",
    "                 facecolor='pink')\n",
    "value_shell_reversed_patch = mpatches.Patch(color='r', label='Reversed Shell value')\n",
    "std_shell_reversed_patch = mpatches.Patch(color='pink', label='Reversed Shell std')\n",
    "\n",
    "plt.legend(handles=[value_shell_patch, \n",
    "                    std_shell_patch,\n",
    "                    value_shell_sorted_patch,\n",
    "                    std_shell_sorted_patch,\n",
    "                    value_shell_reversed_patch, \n",
    "                    std_shell_reversed_patch], \n",
    "           loc=2, \n",
    "           fontsize=20)"
   ]
  },
  {
   "cell_type": "markdown",
   "metadata": {},
   "source": [
    "## Выводы:\n",
    "Исходя из графического представления результатов экспериментов, можно утверждать, что сортировка Шелла довольно устойчива к особым видам данных, к примеру, отсортированным. В частности, это наглядно видно исходя из того, что разброс времени сортировки уже отсортированного массива (светло-зеленый фон рядом с зеленой полосой) и разброс времени сортировки инвертированного массива (светло-розовый фон рядом с красной полосой) несущественно мал. Для сортировки Шелла довольно трудно подобрать такой случай, чтобы производительность падала хуже среднестатистического случая, как правило, эти случаи являются частными случаями для метода определения шага.\n",
    "\n",
    "Экспериментально показано, что средняя производительность алгоритма с подбором шага по последовательности факториалов приблизительно равна $O(n^{\\frac{3}{2}})$, что соответствует средней оценке сложности алгоритма Шелла с типичными шагами сортировки."
   ]
  }
 ],
 "metadata": {
  "kernelspec": {
   "display_name": "Python 3",
   "language": "python",
   "name": "python3"
  },
  "language_info": {
   "codemirror_mode": {
    "name": "ipython",
    "version": 3
   },
   "file_extension": ".py",
   "mimetype": "text/x-python",
   "name": "python",
   "nbconvert_exporter": "python",
   "pygments_lexer": "ipython3",
   "version": "3.6.1"
  }
 },
 "nbformat": 4,
 "nbformat_minor": 2
}
